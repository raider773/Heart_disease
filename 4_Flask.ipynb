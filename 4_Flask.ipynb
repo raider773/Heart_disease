{
 "cells": [
  {
   "cell_type": "code",
   "execution_count": 1,
   "id": "interesting-merchant",
   "metadata": {},
   "outputs": [],
   "source": [
    "import pandas as pd\n",
    "import numpy as np\n",
    "import json\n",
    "import pickle\n",
    "from flask import  Flask, request, jsonify, render_template\n",
    "from DataTestProcess import feature_engineering"
   ]
  },
  {
   "cell_type": "code",
   "execution_count": 2,
   "id": "plain-master",
   "metadata": {},
   "outputs": [],
   "source": [
    "app = Flask('Heart_Prediction')"
   ]
  },
  {
   "cell_type": "code",
   "execution_count": 3,
   "id": "essential-fundamentals",
   "metadata": {},
   "outputs": [],
   "source": [
    "@app.route('/api',methods=['POST'])\n",
    "def predict_heart():  \n",
    "    #get data\n",
    "    \n",
    "    data = request.get_json(force=True)   \n",
    "    data = data['features'][0]  \n",
    "    data = np.array(data).reshape(1, -1)\n",
    "    data = pd.DataFrame(data)\n",
    "    \n",
    "    #Data_Process    \n",
    "    data = feature_engineering(data)\n",
    "    \n",
    "    #predict \n",
    "    import pickle\n",
    "    with open('model_KNN.pkl', 'rb') as f_model:\n",
    "        modelo = pickle.load(f_model)   \n",
    "    \n",
    "    prediction = modelo.predict(data)        \n",
    "    \n",
    "    return(str(prediction[0]))"
   ]
  },
  {
   "cell_type": "code",
   "execution_count": 4,
   "id": "orange-consortium",
   "metadata": {},
   "outputs": [
    {
     "name": "stdout",
     "output_type": "stream",
     "text": [
      " * Serving Flask app \"Heart_Prediction\" (lazy loading)\n",
      " * Environment: production\n",
      "   WARNING: This is a development server. Do not use it in a production deployment.\n",
      "   Use a production WSGI server instead.\n",
      " * Debug mode: off\n"
     ]
    },
    {
     "name": "stderr",
     "output_type": "stream",
     "text": [
      " * Running on http://0.0.0.0:5000/ (Press CTRL+C to quit)\n",
      "127.0.0.1 - - [03/Apr/2021 09:58:57] \"\u001b[37mPOST /api HTTP/1.1\u001b[0m\" 200 -\n"
     ]
    }
   ],
   "source": [
    "app.run(host='0.0.0.0')"
   ]
  }
 ],
 "metadata": {
  "kernelspec": {
   "display_name": "Python 3",
   "language": "python",
   "name": "python3"
  },
  "language_info": {
   "codemirror_mode": {
    "name": "ipython",
    "version": 3
   },
   "file_extension": ".py",
   "mimetype": "text/x-python",
   "name": "python",
   "nbconvert_exporter": "python",
   "pygments_lexer": "ipython3",
   "version": "3.7.10"
  }
 },
 "nbformat": 4,
 "nbformat_minor": 5
}
