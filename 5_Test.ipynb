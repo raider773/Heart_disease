{
 "cells": [
  {
   "cell_type": "code",
   "execution_count": 1,
   "id": "distributed-diary",
   "metadata": {},
   "outputs": [],
   "source": [
    "import requests\n",
    "import pandas as pd\n",
    "import numpy as np"
   ]
  },
  {
   "cell_type": "code",
   "execution_count": 2,
   "id": "latin-leonard",
   "metadata": {},
   "outputs": [],
   "source": [
    "def request (url,features): \n",
    "    'features is a list with each feature in order'\n",
    "    \n",
    "    r = requests.post(url,\n",
    "                  json = {'features':[features]}) \n",
    "    \n",
    "    return r.text"
   ]
  },
  {
   "cell_type": "code",
   "execution_count": 3,
   "id": "killing-attack",
   "metadata": {},
   "outputs": [],
   "source": [
    "Pred = request('http://localhost:5000/api', features = [68 ,1 ,0,144 ,193 ,1,1 ,141 ,0,3.4,1 ,2,3])"
   ]
  },
  {
   "cell_type": "code",
   "execution_count": 4,
   "id": "dress-double",
   "metadata": {},
   "outputs": [
    {
     "data": {
      "text/plain": [
       "'0'"
      ]
     },
     "execution_count": 4,
     "metadata": {},
     "output_type": "execute_result"
    }
   ],
   "source": [
    "Pred"
   ]
  }
 ],
 "metadata": {
  "kernelspec": {
   "display_name": "Python 3",
   "language": "python",
   "name": "python3"
  },
  "language_info": {
   "codemirror_mode": {
    "name": "ipython",
    "version": 3
   },
   "file_extension": ".py",
   "mimetype": "text/x-python",
   "name": "python",
   "nbconvert_exporter": "python",
   "pygments_lexer": "ipython3",
   "version": "3.7.10"
  }
 },
 "nbformat": 4,
 "nbformat_minor": 5
}
