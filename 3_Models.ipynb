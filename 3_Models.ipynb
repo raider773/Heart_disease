{
 "cells": [
  {
   "cell_type": "code",
   "execution_count": 1,
   "id": "outstanding-valve",
   "metadata": {},
   "outputs": [],
   "source": [
    "import pandas as pd\n",
    "import numpy as np\n",
    "import seaborn as sns\n",
    "import matplotlib as mpl\n",
    "import matplotlib.pyplot as plt"
   ]
  },
  {
   "cell_type": "code",
   "execution_count": 2,
   "id": "breeding-veteran",
   "metadata": {},
   "outputs": [],
   "source": [
    "import warnings\n",
    "warnings.filterwarnings('ignore')"
   ]
  },
  {
   "cell_type": "markdown",
   "id": "activated-hearing",
   "metadata": {},
   "source": [
    "# Train Models \n",
    "In this notebook i'll try different models and see which one is better. As i said simpler models will work best here, but i'll use LGBM and an ANN just for trying."
   ]
  },
  {
   "cell_type": "code",
   "execution_count": 3,
   "id": "falling-reservation",
   "metadata": {},
   "outputs": [],
   "source": [
    "X_train = pd.read_csv('X_train.csv')\n",
    "y_train = pd.read_csv('y_train.csv')\n",
    "X_test = pd.read_csv('X_test.csv')\n",
    "y_test = pd.read_csv('y_test.csv')"
   ]
  },
  {
   "cell_type": "code",
   "execution_count": 4,
   "id": "modified-enclosure",
   "metadata": {},
   "outputs": [],
   "source": [
    "X_train.set_index('key_0',inplace = True)\n",
    "X_train.drop(columns = ['Unnamed: 0'],inplace = True)"
   ]
  },
  {
   "cell_type": "code",
   "execution_count": 5,
   "id": "palestinian-rover",
   "metadata": {},
   "outputs": [],
   "source": [
    "y_train.set_index('Unnamed: 0',inplace = True)"
   ]
  },
  {
   "cell_type": "code",
   "execution_count": 6,
   "id": "selective-tractor",
   "metadata": {},
   "outputs": [],
   "source": [
    "X_test.set_index('Unnamed: 0',inplace = True)"
   ]
  },
  {
   "cell_type": "code",
   "execution_count": 7,
   "id": "ready-banks",
   "metadata": {},
   "outputs": [],
   "source": [
    "y_test.set_index('Unnamed: 0',inplace = True)"
   ]
  },
  {
   "cell_type": "markdown",
   "id": "guilty-travel",
   "metadata": {},
   "source": [
    "Here i import the feature_engineering from the DataTestProcess.py module i created.  "
   ]
  },
  {
   "cell_type": "code",
   "execution_count": 9,
   "id": "fleet-wheat",
   "metadata": {},
   "outputs": [],
   "source": [
    "from DataTestProcess import feature_engineering"
   ]
  },
  {
   "cell_type": "code",
   "execution_count": 10,
   "id": "square-duplicate",
   "metadata": {},
   "outputs": [],
   "source": [
    "X_test = feature_engineering(X_test)"
   ]
  },
  {
   "cell_type": "markdown",
   "id": "consistent-polyester",
   "metadata": {},
   "source": [
    "#### KNN"
   ]
  },
  {
   "cell_type": "code",
   "execution_count": 12,
   "id": "checked-monaco",
   "metadata": {},
   "outputs": [],
   "source": [
    "#knn\n",
    "from sklearn.feature_selection import SelectKBest\n",
    "from sklearn.preprocessing import RobustScaler\n",
    "from sklearn.pipeline import Pipeline\n",
    "from sklearn.model_selection import GridSearchCV\n",
    "from sklearn.preprocessing import StandardScaler\n",
    "from sklearn.neighbors import KNeighborsClassifier\n",
    "from sklearn.feature_selection import RFE"
   ]
  },
  {
   "cell_type": "code",
   "execution_count": 13,
   "id": "successful-violation",
   "metadata": {},
   "outputs": [],
   "source": [
    "steps_knn = [('feat_selector',SelectKBest(k=10)),('scaler' , StandardScaler()),('knn' , KNeighborsClassifier())]\n",
    "pipe_grid_knn = Pipeline (steps_knn)"
   ]
  },
  {
   "cell_type": "code",
   "execution_count": 14,
   "id": "basic-german",
   "metadata": {},
   "outputs": [],
   "source": [
    "pipe_param_knn = [{'feat_selector__k' :[5,10,len(X_train.columns)],\n",
    "                   'scaler' : [RobustScaler(),StandardScaler(),None],                          \n",
    "                   'knn__n_neighbors' : list(range(2,20,2)),\n",
    "                   'knn__weights' : ['uniform','distance'],\n",
    "                   'knn__p' : [1,2] }]    "
   ]
  },
  {
   "cell_type": "code",
   "execution_count": 15,
   "id": "parallel-sweden",
   "metadata": {},
   "outputs": [
    {
     "data": {
      "text/plain": [
       "{'feat_selector__k': 10,\n",
       " 'knn__n_neighbors': 14,\n",
       " 'knn__p': 1,\n",
       " 'knn__weights': 'uniform',\n",
       " 'scaler': StandardScaler()}"
      ]
     },
     "execution_count": 15,
     "metadata": {},
     "output_type": "execute_result"
    }
   ],
   "source": [
    "gird_knn =  GridSearchCV (pipe_grid_knn, pipe_param_knn ,cv = 5 , n_jobs = -1)\n",
    "gird_knn.fit(X_train,y_train)\n",
    "gird_knn.best_params_"
   ]
  },
  {
   "cell_type": "code",
   "execution_count": 16,
   "id": "intellectual-continuity",
   "metadata": {},
   "outputs": [
    {
     "data": {
      "text/plain": [
       "0.8571951219512195"
      ]
     },
     "execution_count": 16,
     "metadata": {},
     "output_type": "execute_result"
    }
   ],
   "source": [
    "gird_knn.best_score_"
   ]
  },
  {
   "cell_type": "code",
   "execution_count": 17,
   "id": "productive-flooring",
   "metadata": {},
   "outputs": [
    {
     "data": {
      "text/plain": [
       "0.84"
      ]
     },
     "execution_count": 17,
     "metadata": {},
     "output_type": "execute_result"
    }
   ],
   "source": [
    "from sklearn.metrics import accuracy_score\n",
    "pred = gird_knn.predict(X_test)\n",
    "accuracy_score(y_test,pred)"
   ]
  },
  {
   "cell_type": "code",
   "execution_count": 18,
   "id": "yellow-miniature",
   "metadata": {},
   "outputs": [
    {
     "data": {
      "text/plain": [
       "<AxesSubplot:>"
      ]
     },
     "execution_count": 18,
     "metadata": {},
     "output_type": "execute_result"
    },
    {
     "data": {
      "image/png": "[encoded data removed]",
      "text/plain": [
       "<Figure size 432x288 with 2 Axes>"
      ]
     },
     "metadata": {
      "needs_background": "light"
     },
     "output_type": "display_data"
    }
   ],
   "source": [
    "from sklearn.metrics import confusion_matrix\n",
    "sns.heatmap(confusion_matrix(y_test,pred),annot = True)"
   ]
  },
  {
   "cell_type": "markdown",
   "id": "induced-baseline",
   "metadata": {},
   "source": [
    "#### Logistic"
   ]
  },
  {
   "cell_type": "code",
   "execution_count": 19,
   "id": "broadband-verification",
   "metadata": {},
   "outputs": [],
   "source": [
    "\n",
    "from sklearn.linear_model import LogisticRegression\n",
    "steps_log = [('feat_selector',SelectKBest(k=10)),('scaler' , StandardScaler()),('logistic' , LogisticRegression(max_iter = 1000))]\n",
    "pipe_grid_log = Pipeline (steps_log )\n"
   ]
  },
  {
   "cell_type": "code",
   "execution_count": 20,
   "id": "dramatic-importance",
   "metadata": {},
   "outputs": [],
   "source": [
    "pipe_param_log = [{'feat_selector__k' :[5,10,len(X_train.columns)],\n",
    "                  'scaler' : [RobustScaler(),StandardScaler(),None],\n",
    "                   'logistic__C' : [0.01,0.1,1,100,10**10000],\n",
    "                  'logistic__penalty' : ['l1','l2'],\n",
    "                  'logistic__solver' : [\"liblinear\",\"lbfgs\"],\n",
    "                  'logistic__fit_intercept' : [True,False]}]  "
   ]
  },
  {
   "cell_type": "code",
   "execution_count": 21,
   "id": "operating-supply",
   "metadata": {},
   "outputs": [
    {
     "data": {
      "text/plain": [
       "{'feat_selector__k': 10,\n",
       " 'logistic__C': 0.1,\n",
       " 'logistic__fit_intercept': False,\n",
       " 'logistic__penalty': 'l2',\n",
       " 'logistic__solver': 'liblinear',\n",
       " 'scaler': RobustScaler()}"
      ]
     },
     "execution_count": 21,
     "metadata": {},
     "output_type": "execute_result"
    }
   ],
   "source": [
    "gird_log =  GridSearchCV (pipe_grid_log, pipe_param_log ,cv = 5 , n_jobs = -1)\n",
    "gird_log.fit(X_train,y_train)\n",
    "gird_log.best_params_"
   ]
  },
  {
   "cell_type": "code",
   "execution_count": 22,
   "id": "indirect-alias",
   "metadata": {},
   "outputs": [
    {
     "data": {
      "text/plain": [
       "0.8518292682926829"
      ]
     },
     "execution_count": 22,
     "metadata": {},
     "output_type": "execute_result"
    }
   ],
   "source": [
    "gird_log.best_score_"
   ]
  },
  {
   "cell_type": "code",
   "execution_count": 23,
   "id": "concrete-carbon",
   "metadata": {},
   "outputs": [
    {
     "data": {
      "text/plain": [
       "0.8"
      ]
     },
     "execution_count": 23,
     "metadata": {},
     "output_type": "execute_result"
    }
   ],
   "source": [
    "from sklearn.metrics import accuracy_score\n",
    "pred = gird_log.predict(X_test)\n",
    "accuracy_score(y_test,pred)"
   ]
  },
  {
   "cell_type": "code",
   "execution_count": 24,
   "id": "tropical-opera",
   "metadata": {},
   "outputs": [
    {
     "data": {
      "text/plain": [
       "<AxesSubplot:>"
      ]
     },
     "execution_count": 24,
     "metadata": {},
     "output_type": "execute_result"
    },
    {
     "data": {
      "image/png": "[encoded data removed]",
      "text/plain": [
       "<Figure size 432x288 with 2 Axes>"
      ]
     },
     "metadata": {
      "needs_background": "light"
     },
     "output_type": "display_data"
    }
   ],
   "source": [
    "from sklearn.metrics import confusion_matrix\n",
    "sns.heatmap(confusion_matrix(y_test,pred),annot = True)"
   ]
  },
  {
   "cell_type": "markdown",
   "id": "secret-witch",
   "metadata": {},
   "source": [
    "#### LGBM"
   ]
  },
  {
   "cell_type": "code",
   "execution_count": 26,
   "id": "surface-mitchell",
   "metadata": {},
   "outputs": [],
   "source": [
    "#ligthgbm\n",
    "\n",
    "import lightgbm as lgb\n",
    "from sklearn.preprocessing import RobustScaler\n",
    "\n",
    "steps_lgb = [('feat_selector',SelectKBest(k=10)),('scaler' , RobustScaler()),('lgb' , lgb.LGBMClassifier(objective = 'binary'))]\n",
    "pipe_grid_lgb = Pipeline (steps_lgb)\n",
    "\n",
    "param_grid_lgb = [{'feat_selector__k' :[5,10,len(X_train.columns)],\n",
    "                   'scaler' : [RobustScaler(),StandardScaler(),None],                \n",
    "                  'lgb__n_estimators' : [100,300,500,900,1000],\n",
    "                  'lgb__eta' : [0.01,0.1,1],\n",
    "                  'lgb__boosting' : ['gbdt','dart']     \n",
    "                }]"
   ]
  },
  {
   "cell_type": "code",
   "execution_count": 27,
   "id": "internal-canal",
   "metadata": {},
   "outputs": [
    {
     "name": "stdout",
     "output_type": "stream",
     "text": [
      "[LightGBM] [Warning] boosting is set=dart, boosting_type=gbdt will be ignored. Current value: boosting=dart\n",
      "[LightGBM] [Warning] learning_rate is set=0.1, eta=0.01 will be ignored. Current value: learning_rate=0.1\n"
     ]
    },
    {
     "data": {
      "text/plain": [
       "{'feat_selector__k': 10,\n",
       " 'lgb__boosting': 'dart',\n",
       " 'lgb__eta': 0.01,\n",
       " 'lgb__n_estimators': 100,\n",
       " 'scaler': StandardScaler()}"
      ]
     },
     "execution_count": 27,
     "metadata": {},
     "output_type": "execute_result"
    }
   ],
   "source": [
    "grid_lgb_full =  GridSearchCV (pipe_grid_lgb, param_grid_lgb ,cv = 3,n_jobs = -1)\n",
    "grid_lgb_full.fit(X_train,y_train)\n",
    "grid_lgb_full.best_params_"
   ]
  },
  {
   "cell_type": "code",
   "execution_count": 28,
   "id": "swiss-import",
   "metadata": {},
   "outputs": [
    {
     "data": {
      "text/plain": [
       "0.8079455662862159"
      ]
     },
     "execution_count": 28,
     "metadata": {},
     "output_type": "execute_result"
    }
   ],
   "source": [
    "grid_lgb_full.best_score_"
   ]
  },
  {
   "cell_type": "code",
   "execution_count": 29,
   "id": "chief-masters",
   "metadata": {},
   "outputs": [
    {
     "data": {
      "text/plain": [
       "0.82"
      ]
     },
     "execution_count": 29,
     "metadata": {},
     "output_type": "execute_result"
    }
   ],
   "source": [
    "pred = grid_lgb_full.predict(X_test)\n",
    "accuracy_score(y_test,pred)"
   ]
  },
  {
   "cell_type": "code",
   "execution_count": 30,
   "id": "alive-progress",
   "metadata": {},
   "outputs": [
    {
     "data": {
      "text/plain": [
       "<AxesSubplot:>"
      ]
     },
     "execution_count": 30,
     "metadata": {},
     "output_type": "execute_result"
    },
    {
     "data": {
      "image/png": "[encoded data removed]",
      "text/plain": [
       "<Figure size 432x288 with 2 Axes>"
      ]
     },
     "metadata": {
      "needs_background": "light"
     },
     "output_type": "display_data"
    }
   ],
   "source": [
    "sns.heatmap(confusion_matrix(y_test,pred),annot = True)"
   ]
  },
  {
   "cell_type": "markdown",
   "id": "common-explosion",
   "metadata": {},
   "source": [
    "#### ANN"
   ]
  },
  {
   "cell_type": "code",
   "execution_count": 31,
   "id": "stuffed-registration",
   "metadata": {},
   "outputs": [],
   "source": [
    "#ann\n",
    "import tensorflow as tf"
   ]
  },
  {
   "cell_type": "code",
   "execution_count": 32,
   "id": "eight-printing",
   "metadata": {},
   "outputs": [],
   "source": [
    "scaler = StandardScaler()\n",
    "X_train_std = scaler.fit_transform(X_train)"
   ]
  },
  {
   "cell_type": "code",
   "execution_count": 33,
   "id": "employed-education",
   "metadata": {},
   "outputs": [
    {
     "data": {
      "text/plain": [
       "<tensorflow.python.keras.callbacks.History at 0x13a571a5548>"
      ]
     },
     "execution_count": 33,
     "metadata": {},
     "output_type": "execute_result"
    }
   ],
   "source": [
    "ann = tf.keras.Sequential()\n",
    "ann.add(tf.keras.layers.Dense(units=5,activation = 'relu'))\n",
    "ann.add(tf.keras.layers.Dense(units=5,activation = 'relu'))\n",
    "ann.add(tf.keras.layers.Dense(units=1,activation = 'sigmoid'))\n",
    "ann.compile(optimizer = \"adam\" ,loss = \"binary_crossentropy\" , metrics = [\"accuracy\"])\n",
    "ann.fit(X_train_std,y_train,batch_size = 32,epochs = 400,verbose = False)"
   ]
  },
  {
   "cell_type": "code",
   "execution_count": 34,
   "id": "hydraulic-sleep",
   "metadata": {},
   "outputs": [],
   "source": [
    "X_test_std = scaler.transform(X_test)"
   ]
  },
  {
   "cell_type": "code",
   "execution_count": 35,
   "id": "danish-measurement",
   "metadata": {},
   "outputs": [],
   "source": [
    "pred = ann.predict(X_test_std) > 0.5"
   ]
  },
  {
   "cell_type": "code",
   "execution_count": 36,
   "id": "rational-importance",
   "metadata": {},
   "outputs": [
    {
     "data": {
      "text/plain": [
       "0.81"
      ]
     },
     "execution_count": 36,
     "metadata": {},
     "output_type": "execute_result"
    }
   ],
   "source": [
    "accuracy_score(y_test,pred)"
   ]
  },
  {
   "cell_type": "code",
   "execution_count": 37,
   "id": "liable-pakistan",
   "metadata": {},
   "outputs": [
    {
     "data": {
      "text/plain": [
       "<AxesSubplot:>"
      ]
     },
     "execution_count": 37,
     "metadata": {},
     "output_type": "execute_result"
    },
    {
     "data": {
      "image/png": "[encoded data removed]",
      "text/plain": [
       "<Figure size 432x288 with 2 Axes>"
      ]
     },
     "metadata": {
      "needs_background": "light"
     },
     "output_type": "display_data"
    }
   ],
   "source": [
    "sns.heatmap(confusion_matrix(y_test,pred),annot = True)"
   ]
  },
  {
   "cell_type": "markdown",
   "id": "vertical-midwest",
   "metadata": {},
   "source": [
    "#### Choose model\n",
    "\n",
    "I'll compare logistic and knn with ROC and AUC"
   ]
  },
  {
   "cell_type": "code",
   "execution_count": 38,
   "id": "respiratory-fisher",
   "metadata": {},
   "outputs": [],
   "source": [
    "from sklearn.metrics import roc_curve\n",
    "from sklearn.metrics import auc"
   ]
  },
  {
   "cell_type": "code",
   "execution_count": 39,
   "id": "burning-cameroon",
   "metadata": {},
   "outputs": [],
   "source": [
    "y_probs_knn = gird_knn.predict_proba(X_test)\n",
    "y_pred_log = gird_log.predict_proba(X_test)"
   ]
  },
  {
   "cell_type": "code",
   "execution_count": 40,
   "id": "thousand-islam",
   "metadata": {},
   "outputs": [],
   "source": [
    "fpr_knn,tpr__knn,thr__knn = roc_curve(y_test, y_probs_knn[:,1])\n",
    "fpr_log,tpr_log,thr_log = roc_curve(y_test, y_pred_log[:,1])"
   ]
  },
  {
   "cell_type": "code",
   "execution_count": 41,
   "id": "lonely-hampton",
   "metadata": {},
   "outputs": [
    {
     "data": {
      "image/png": "[encoded data removed]",
      "text/plain": [
       "<Figure size 432x288 with 1 Axes>"
      ]
     },
     "metadata": {
      "needs_background": "light"
     },
     "output_type": "display_data"
    }
   ],
   "source": [
    "plt.axis([0, 1.01, 0, 1.01])\n",
    "plt.xlabel('1 - Specificty')\n",
    "plt.ylabel('TPR / Sensitivity')\n",
    "plt.title('ROC Curve')\n",
    "plt.plot(fpr_knn,tpr__knn)\n",
    "plt.plot(fpr_log,tpr_log)\n",
    "plt.plot(np.arange(0,1, step =0.01), np.arange(0,1, step =0.01))\n",
    "plt.legend(['KNN','Logit'])\n",
    "plt.show() "
   ]
  },
  {
   "cell_type": "code",
   "execution_count": 42,
   "id": "adolescent-history",
   "metadata": {},
   "outputs": [
    {
     "name": "stdout",
     "output_type": "stream",
     "text": [
      "AUC knn= 0.9241126070991431\n",
      "AUC log= 0.9171766625866993\n"
     ]
    }
   ],
   "source": [
    "print('AUC knn=', auc(fpr_knn, tpr__knn))\n",
    "print('AUC log=', auc(fpr_log, tpr_log))"
   ]
  },
  {
   "cell_type": "markdown",
   "id": "every-omaha",
   "metadata": {},
   "source": [
    "#### I'll use the KNN model.\n",
    "Next ill see what happens when i change threshold. As i said before i'll use accuracy to select model, and threshold will remain at 0.5 ,but i'll try and see what happens nonetheless"
   ]
  },
  {
   "cell_type": "code",
   "execution_count": 55,
   "id": "balanced-messenger",
   "metadata": {},
   "outputs": [],
   "source": [
    "from sklearn.metrics import precision_score\n",
    "from sklearn.metrics import recall_score"
   ]
  },
  {
   "cell_type": "code",
   "execution_count": 56,
   "id": "dated-failing",
   "metadata": {},
   "outputs": [
    {
     "data": {
      "text/plain": [
       "0.84"
      ]
     },
     "execution_count": 56,
     "metadata": {},
     "output_type": "execute_result"
    }
   ],
   "source": [
    "pred = gird_knn.predict(X_test)\n",
    "accuracy_score(y_test,pred)"
   ]
  },
  {
   "cell_type": "markdown",
   "id": "proprietary-collectible",
   "metadata": {},
   "source": [
    "With threshold 0.5"
   ]
  },
  {
   "cell_type": "code",
   "execution_count": 57,
   "id": "charitable-intro",
   "metadata": {},
   "outputs": [
    {
     "data": {
      "text/plain": [
       "<AxesSubplot:>"
      ]
     },
     "execution_count": 57,
     "metadata": {},
     "output_type": "execute_result"
    },
    {
     "data": {
      "image/png": "[encoded data removed]",
      "text/plain": [
       "<Figure size 432x288 with 2 Axes>"
      ]
     },
     "metadata": {
      "needs_background": "light"
     },
     "output_type": "display_data"
    }
   ],
   "source": [
    "sns.heatmap(confusion_matrix(y_test,pred),annot = True)"
   ]
  },
  {
   "cell_type": "code",
   "execution_count": 47,
   "id": "sacred-domain",
   "metadata": {},
   "outputs": [
    {
     "data": {
      "text/plain": [
       "0.8411097099621689"
      ]
     },
     "execution_count": 47,
     "metadata": {},
     "output_type": "execute_result"
    }
   ],
   "source": [
    "precision_score(y_test,pred, average='macro')"
   ]
  },
  {
   "cell_type": "code",
   "execution_count": 48,
   "id": "global-colony",
   "metadata": {},
   "outputs": [
    {
     "data": {
      "text/plain": [
       "0.8310893512851898"
      ]
     },
     "execution_count": 48,
     "metadata": {},
     "output_type": "execute_result"
    }
   ],
   "source": [
    "recall_score(y_test,pred, average='macro')"
   ]
  },
  {
   "cell_type": "markdown",
   "id": "coordinate-adams",
   "metadata": {},
   "source": [
    "Change threshold to 0.3"
   ]
  },
  {
   "cell_type": "code",
   "execution_count": 49,
   "id": "theoretical-lightweight",
   "metadata": {},
   "outputs": [],
   "source": [
    "pred_proba = pd.DataFrame((gird_knn.predict_proba(X_test)>0.3)[:,1])"
   ]
  },
  {
   "cell_type": "code",
   "execution_count": 51,
   "id": "imposed-vault",
   "metadata": {},
   "outputs": [
    {
     "data": {
      "text/html": [
       "<div>\n",
       "<style scoped>\n",
       "    .dataframe tbody tr th:only-of-type {\n",
       "        vertical-align: middle;\n",
       "    }\n",
       "\n",
       "    .dataframe tbody tr th {\n",
       "        vertical-align: top;\n",
       "    }\n",
       "\n",
       "    .dataframe thead th {\n",
       "        text-align: right;\n",
       "    }\n",
       "</style>\n",
       "<table border=\"1\" class=\"dataframe\">\n",
       "  <thead>\n",
       "    <tr style=\"text-align: right;\">\n",
       "      <th></th>\n",
       "      <th>0</th>\n",
       "    </tr>\n",
       "  </thead>\n",
       "  <tbody>\n",
       "    <tr>\n",
       "      <th>0</th>\n",
       "      <td>True</td>\n",
       "    </tr>\n",
       "    <tr>\n",
       "      <th>1</th>\n",
       "      <td>False</td>\n",
       "    </tr>\n",
       "    <tr>\n",
       "      <th>2</th>\n",
       "      <td>False</td>\n",
       "    </tr>\n",
       "    <tr>\n",
       "      <th>3</th>\n",
       "      <td>False</td>\n",
       "    </tr>\n",
       "    <tr>\n",
       "      <th>4</th>\n",
       "      <td>False</td>\n",
       "    </tr>\n",
       "  </tbody>\n",
       "</table>\n",
       "</div>"
      ],
      "text/plain": [
       "       0\n",
       "0   True\n",
       "1  False\n",
       "2  False\n",
       "3  False\n",
       "4  False"
      ]
     },
     "execution_count": 51,
     "metadata": {},
     "output_type": "execute_result"
    }
   ],
   "source": [
    "pred_proba.head()"
   ]
  },
  {
   "cell_type": "code",
   "execution_count": 52,
   "id": "incomplete-journalist",
   "metadata": {},
   "outputs": [
    {
     "data": {
      "text/plain": [
       "<AxesSubplot:>"
      ]
     },
     "execution_count": 52,
     "metadata": {},
     "output_type": "execute_result"
    },
    {
     "data": {
      "image/png": "[encoded data removed]",
      "text/plain": [
       "<Figure size 432x288 with 2 Axes>"
      ]
     },
     "metadata": {
      "needs_background": "light"
     },
     "output_type": "display_data"
    }
   ],
   "source": [
    "sns.heatmap(confusion_matrix(y_test,pred_proba),annot = True)"
   ]
  },
  {
   "cell_type": "markdown",
   "id": "numerous-alias",
   "metadata": {},
   "source": [
    "More TP predicted at the cost of more FP. As we said earlier this would be better because you are predicting heart problems, so better to say you have and be wrong that saying you dont have heart problems when you have. But again, i'll stay with the 0.5 threshold."
   ]
  },
  {
   "cell_type": "code",
   "execution_count": 53,
   "id": "collectible-roulette",
   "metadata": {},
   "outputs": [
    {
     "data": {
      "text/plain": [
       "0.799265605875153"
      ]
     },
     "execution_count": 53,
     "metadata": {},
     "output_type": "execute_result"
    }
   ],
   "source": [
    "recall_score(y_test,pred_proba, average='macro')"
   ]
  },
  {
   "cell_type": "code",
   "execution_count": 54,
   "id": "declared-transsexual",
   "metadata": {},
   "outputs": [
    {
     "data": {
      "text/plain": [
       "0.8429172510518934"
      ]
     },
     "execution_count": 54,
     "metadata": {},
     "output_type": "execute_result"
    }
   ],
   "source": [
    "precision_score(y_test,pred_proba, average='macro')"
   ]
  },
  {
   "cell_type": "code",
   "execution_count": 58,
   "id": "incredible-trust",
   "metadata": {},
   "outputs": [],
   "source": [
    "import pickle\n",
    "with open('model_KNN.pkl', 'wb') as f_model:\n",
    "    pickle.dump(gird_knn,f_model)"
   ]
  }
 ],
 "metadata": {
  "kernelspec": {
   "display_name": "Python 3",
   "language": "python",
   "name": "python3"
  },
  "language_info": {
   "codemirror_mode": {
    "name": "ipython",
    "version": 3
   },
   "file_extension": ".py",
   "mimetype": "text/x-python",
   "name": "python",
   "nbconvert_exporter": "python",
   "pygments_lexer": "ipython3",
   "version": "3.7.10"
  }
 },
 "nbformat": 4,
 "nbformat_minor": 5
}
